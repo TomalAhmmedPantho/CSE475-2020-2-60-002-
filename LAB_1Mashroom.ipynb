{
  "nbformat": 4,
  "nbformat_minor": 0,
  "metadata": {
    "colab": {
      "provenance": []
    },
    "kernelspec": {
      "name": "python3",
      "display_name": "Python 3"
    },
    "language_info": {
      "name": "python"
    }
  },
  "cells": [
    {
      "cell_type": "code",
      "execution_count": 1,
      "metadata": {
        "id": "J-r9vd02jOJG",
        "colab": {
          "base_uri": "https://localhost:8080/"
        },
        "outputId": "60b084a9-ae0e-4fe1-8f1c-031ed6f1404d"
      },
      "outputs": [
        {
          "output_type": "stream",
          "name": "stdout",
          "text": [
            "Collecting ucimlrepo\n",
            "  Downloading ucimlrepo-0.0.7-py3-none-any.whl.metadata (5.5 kB)\n",
            "Requirement already satisfied: pandas>=1.0.0 in /usr/local/lib/python3.11/dist-packages (from ucimlrepo) (2.2.2)\n",
            "Requirement already satisfied: certifi>=2020.12.5 in /usr/local/lib/python3.11/dist-packages (from ucimlrepo) (2025.1.31)\n",
            "Requirement already satisfied: numpy>=1.23.2 in /usr/local/lib/python3.11/dist-packages (from pandas>=1.0.0->ucimlrepo) (1.26.4)\n",
            "Requirement already satisfied: python-dateutil>=2.8.2 in /usr/local/lib/python3.11/dist-packages (from pandas>=1.0.0->ucimlrepo) (2.8.2)\n",
            "Requirement already satisfied: pytz>=2020.1 in /usr/local/lib/python3.11/dist-packages (from pandas>=1.0.0->ucimlrepo) (2025.1)\n",
            "Requirement already satisfied: tzdata>=2022.7 in /usr/local/lib/python3.11/dist-packages (from pandas>=1.0.0->ucimlrepo) (2025.1)\n",
            "Requirement already satisfied: six>=1.5 in /usr/local/lib/python3.11/dist-packages (from python-dateutil>=2.8.2->pandas>=1.0.0->ucimlrepo) (1.17.0)\n",
            "Downloading ucimlrepo-0.0.7-py3-none-any.whl (8.0 kB)\n",
            "Installing collected packages: ucimlrepo\n",
            "Successfully installed ucimlrepo-0.0.7\n"
          ]
        }
      ],
      "source": [
        "!pip install ucimlrepo"
      ]
    },
    {
      "cell_type": "code",
      "source": [
        "from ucimlrepo import fetch_ucirepo\n",
        "\n",
        "# fetch dataset\n",
        "mushroom = fetch_ucirepo(id=73)\n",
        "\n",
        "# data (as pandas dataframes)\n",
        "X = mushroom.data.features\n",
        "y = mushroom.data.targets\n",
        "\n",
        "# metadata\n",
        "print(mushroom.metadata)\n",
        "\n",
        "# variable information\n",
        "print(mushroom.variables)"
      ],
      "metadata": {
        "id": "uJ0iQ5qijTdG",
        "colab": {
          "base_uri": "https://localhost:8080/"
        },
        "outputId": "56c2eee7-6dd1-48f0-c809-462474d8985d"
      },
      "execution_count": 2,
      "outputs": [
        {
          "output_type": "stream",
          "name": "stdout",
          "text": [
            "{'uci_id': 73, 'name': 'Mushroom', 'repository_url': 'https://archive.ics.uci.edu/dataset/73/mushroom', 'data_url': 'https://archive.ics.uci.edu/static/public/73/data.csv', 'abstract': 'From Audobon Society Field Guide; mushrooms described in terms of physical characteristics; classification: poisonous or edible', 'area': 'Biology', 'tasks': ['Classification'], 'characteristics': ['Multivariate'], 'num_instances': 8124, 'num_features': 22, 'feature_types': ['Categorical'], 'demographics': [], 'target_col': ['poisonous'], 'index_col': None, 'has_missing_values': 'yes', 'missing_values_symbol': 'NaN', 'year_of_dataset_creation': 1981, 'last_updated': 'Thu Aug 10 2023', 'dataset_doi': '10.24432/C5959T', 'creators': [], 'intro_paper': None, 'additional_info': {'summary': \"This data set includes descriptions of hypothetical samples corresponding to 23 species of gilled mushrooms in the Agaricus and Lepiota Family (pp. 500-525).  Each species is identified as definitely edible, definitely poisonous, or of unknown edibility and not recommended.  This latter class was combined with the poisonous one.  The Guide clearly states that there is no simple rule for determining the edibility of a mushroom; no rule like ``leaflets three, let it be'' for Poisonous Oak and Ivy.\", 'purpose': None, 'funded_by': None, 'instances_represent': None, 'recommended_data_splits': None, 'sensitive_data': None, 'preprocessing_description': None, 'variable_info': '     1. cap-shape:                bell=b,conical=c,convex=x,flat=f, knobbed=k,sunken=s\\r\\n     2. cap-surface:              fibrous=f,grooves=g,scaly=y,smooth=s\\r\\n     3. cap-color:                brown=n,buff=b,cinnamon=c,gray=g,green=r, pink=p,purple=u,red=e,white=w,yellow=y\\r\\n     4. bruises?:                 bruises=t,no=f\\r\\n     5. odor:                     almond=a,anise=l,creosote=c,fishy=y,foul=f, musty=m,none=n,pungent=p,spicy=s\\r\\n     6. gill-attachment:          attached=a,descending=d,free=f,notched=n\\r\\n     7. gill-spacing:             close=c,crowded=w,distant=d\\r\\n     8. gill-size:                broad=b,narrow=n\\r\\n     9. gill-color:               black=k,brown=n,buff=b,chocolate=h,gray=g, green=r,orange=o,pink=p,purple=u,red=e, white=w,yellow=y\\r\\n    10. stalk-shape:              enlarging=e,tapering=t\\r\\n    11. stalk-root:               bulbous=b,club=c,cup=u,equal=e, rhizomorphs=z,rooted=r,missing=?\\r\\n    12. stalk-surface-above-ring: fibrous=f,scaly=y,silky=k,smooth=s\\r\\n    13. stalk-surface-below-ring: fibrous=f,scaly=y,silky=k,smooth=s\\r\\n    14. stalk-color-above-ring:   brown=n,buff=b,cinnamon=c,gray=g,orange=o, pink=p,red=e,white=w,yellow=y\\r\\n    15. stalk-color-below-ring:   brown=n,buff=b,cinnamon=c,gray=g,orange=o, pink=p,red=e,white=w,yellow=y\\r\\n    16. veil-type:                partial=p,universal=u\\r\\n    17. veil-color:               brown=n,orange=o,white=w,yellow=y\\r\\n    18. ring-number:              none=n,one=o,two=t\\r\\n    19. ring-type:                cobwebby=c,evanescent=e,flaring=f,large=l, none=n,pendant=p,sheathing=s,zone=z\\r\\n    20. spore-print-color:        black=k,brown=n,buff=b,chocolate=h,green=r, orange=o,purple=u,white=w,yellow=y\\r\\n    21. population:               abundant=a,clustered=c,numerous=n, scattered=s,several=v,solitary=y\\r\\n    22. habitat:                  grasses=g,leaves=l,meadows=m,paths=p, urban=u,waste=w,woods=d', 'citation': None}}\n",
            "                        name     role         type demographic  \\\n",
            "0                  poisonous   Target  Categorical        None   \n",
            "1                  cap-shape  Feature  Categorical        None   \n",
            "2                cap-surface  Feature  Categorical        None   \n",
            "3                  cap-color  Feature       Binary        None   \n",
            "4                    bruises  Feature  Categorical        None   \n",
            "5                       odor  Feature  Categorical        None   \n",
            "6            gill-attachment  Feature  Categorical        None   \n",
            "7               gill-spacing  Feature  Categorical        None   \n",
            "8                  gill-size  Feature  Categorical        None   \n",
            "9                 gill-color  Feature  Categorical        None   \n",
            "10               stalk-shape  Feature  Categorical        None   \n",
            "11                stalk-root  Feature  Categorical        None   \n",
            "12  stalk-surface-above-ring  Feature  Categorical        None   \n",
            "13  stalk-surface-below-ring  Feature  Categorical        None   \n",
            "14    stalk-color-above-ring  Feature  Categorical        None   \n",
            "15    stalk-color-below-ring  Feature  Categorical        None   \n",
            "16                 veil-type  Feature       Binary        None   \n",
            "17                veil-color  Feature  Categorical        None   \n",
            "18               ring-number  Feature  Categorical        None   \n",
            "19                 ring-type  Feature  Categorical        None   \n",
            "20         spore-print-color  Feature  Categorical        None   \n",
            "21                population  Feature  Categorical        None   \n",
            "22                   habitat  Feature  Categorical        None   \n",
            "\n",
            "                                          description units missing_values  \n",
            "0                                                None  None             no  \n",
            "1   bell=b,conical=c,convex=x,flat=f, knobbed=k,su...  None             no  \n",
            "2                fibrous=f,grooves=g,scaly=y,smooth=s  None             no  \n",
            "3   brown=n,buff=b,cinnamon=c,gray=g,green=r, pink...  None             no  \n",
            "4                                      bruises=t,no=f  None             no  \n",
            "5   almond=a,anise=l,creosote=c,fishy=y,foul=f, mu...  None             no  \n",
            "6            attached=a,descending=d,free=f,notched=n  None             no  \n",
            "7                         close=c,crowded=w,distant=d  None             no  \n",
            "8                                    broad=b,narrow=n  None             no  \n",
            "9   black=k,brown=n,buff=b,chocolate=h,gray=g, gre...  None             no  \n",
            "10                             enlarging=e,tapering=t  None             no  \n",
            "11  bulbous=b,club=c,cup=u,equal=e, rhizomorphs=z,...  None            yes  \n",
            "12                 fibrous=f,scaly=y,silky=k,smooth=s  None             no  \n",
            "13                 fibrous=f,scaly=y,silky=k,smooth=s  None             no  \n",
            "14  brown=n,buff=b,cinnamon=c,gray=g,orange=o, pin...  None             no  \n",
            "15  brown=n,buff=b,cinnamon=c,gray=g,orange=o, pin...  None             no  \n",
            "16                              partial=p,universal=u  None             no  \n",
            "17                  brown=n,orange=o,white=w,yellow=y  None             no  \n",
            "18                                 none=n,one=o,two=t  None             no  \n",
            "19  cobwebby=c,evanescent=e,flaring=f,large=l, non...  None             no  \n",
            "20  black=k,brown=n,buff=b,chocolate=h,green=r, or...  None             no  \n",
            "21  abundant=a,clustered=c,numerous=n, scattered=s...  None             no  \n",
            "22  grasses=g,leaves=l,meadows=m,paths=p, urban=u,...  None             no  \n"
          ]
        }
      ]
    },
    {
      "cell_type": "code",
      "source": [
        "mushroom"
      ],
      "metadata": {
        "id": "s6YHqQHEjW6V",
        "colab": {
          "base_uri": "https://localhost:8080/"
        },
        "outputId": "f3f037be-6f31-47a1-8fd0-e5720c007a9a"
      },
      "execution_count": 3,
      "outputs": [
        {
          "output_type": "execute_result",
          "data": {
            "text/plain": [
              "{'data': {'ids': None,\n",
              "  'features':      cap-shape cap-surface cap-color bruises odor gill-attachment  \\\n",
              "  0            x           s         n       t    p               f   \n",
              "  1            x           s         y       t    a               f   \n",
              "  2            b           s         w       t    l               f   \n",
              "  3            x           y         w       t    p               f   \n",
              "  4            x           s         g       f    n               f   \n",
              "  ...        ...         ...       ...     ...  ...             ...   \n",
              "  8119         k           s         n       f    n               a   \n",
              "  8120         x           s         n       f    n               a   \n",
              "  8121         f           s         n       f    n               a   \n",
              "  8122         k           y         n       f    y               f   \n",
              "  8123         x           s         n       f    n               a   \n",
              "  \n",
              "       gill-spacing gill-size gill-color stalk-shape  ...  \\\n",
              "  0               c         n          k           e  ...   \n",
              "  1               c         b          k           e  ...   \n",
              "  2               c         b          n           e  ...   \n",
              "  3               c         n          n           e  ...   \n",
              "  4               w         b          k           t  ...   \n",
              "  ...           ...       ...        ...         ...  ...   \n",
              "  8119            c         b          y           e  ...   \n",
              "  8120            c         b          y           e  ...   \n",
              "  8121            c         b          n           e  ...   \n",
              "  8122            c         n          b           t  ...   \n",
              "  8123            c         b          y           e  ...   \n",
              "  \n",
              "       stalk-surface-below-ring stalk-color-above-ring stalk-color-below-ring  \\\n",
              "  0                           s                      w                      w   \n",
              "  1                           s                      w                      w   \n",
              "  2                           s                      w                      w   \n",
              "  3                           s                      w                      w   \n",
              "  4                           s                      w                      w   \n",
              "  ...                       ...                    ...                    ...   \n",
              "  8119                        s                      o                      o   \n",
              "  8120                        s                      o                      o   \n",
              "  8121                        s                      o                      o   \n",
              "  8122                        k                      w                      w   \n",
              "  8123                        s                      o                      o   \n",
              "  \n",
              "       veil-type veil-color ring-number ring-type spore-print-color population  \\\n",
              "  0            p          w           o         p                 k          s   \n",
              "  1            p          w           o         p                 n          n   \n",
              "  2            p          w           o         p                 n          n   \n",
              "  3            p          w           o         p                 k          s   \n",
              "  4            p          w           o         e                 n          a   \n",
              "  ...        ...        ...         ...       ...               ...        ...   \n",
              "  8119         p          o           o         p                 b          c   \n",
              "  8120         p          n           o         p                 b          v   \n",
              "  8121         p          o           o         p                 b          c   \n",
              "  8122         p          w           o         e                 w          v   \n",
              "  8123         p          o           o         p                 o          c   \n",
              "  \n",
              "       habitat  \n",
              "  0          u  \n",
              "  1          g  \n",
              "  2          m  \n",
              "  3          u  \n",
              "  4          g  \n",
              "  ...      ...  \n",
              "  8119       l  \n",
              "  8120       l  \n",
              "  8121       l  \n",
              "  8122       l  \n",
              "  8123       l  \n",
              "  \n",
              "  [8124 rows x 22 columns],\n",
              "  'targets':      poisonous\n",
              "  0            p\n",
              "  1            e\n",
              "  2            e\n",
              "  3            p\n",
              "  4            e\n",
              "  ...        ...\n",
              "  8119         e\n",
              "  8120         e\n",
              "  8121         e\n",
              "  8122         p\n",
              "  8123         e\n",
              "  \n",
              "  [8124 rows x 1 columns],\n",
              "  'original':      cap-shape cap-surface cap-color bruises odor gill-attachment  \\\n",
              "  0            x           s         n       t    p               f   \n",
              "  1            x           s         y       t    a               f   \n",
              "  2            b           s         w       t    l               f   \n",
              "  3            x           y         w       t    p               f   \n",
              "  4            x           s         g       f    n               f   \n",
              "  ...        ...         ...       ...     ...  ...             ...   \n",
              "  8119         k           s         n       f    n               a   \n",
              "  8120         x           s         n       f    n               a   \n",
              "  8121         f           s         n       f    n               a   \n",
              "  8122         k           y         n       f    y               f   \n",
              "  8123         x           s         n       f    n               a   \n",
              "  \n",
              "       gill-spacing gill-size gill-color stalk-shape  ...  \\\n",
              "  0               c         n          k           e  ...   \n",
              "  1               c         b          k           e  ...   \n",
              "  2               c         b          n           e  ...   \n",
              "  3               c         n          n           e  ...   \n",
              "  4               w         b          k           t  ...   \n",
              "  ...           ...       ...        ...         ...  ...   \n",
              "  8119            c         b          y           e  ...   \n",
              "  8120            c         b          y           e  ...   \n",
              "  8121            c         b          n           e  ...   \n",
              "  8122            c         n          b           t  ...   \n",
              "  8123            c         b          y           e  ...   \n",
              "  \n",
              "       stalk-color-above-ring stalk-color-below-ring veil-type veil-color  \\\n",
              "  0                         w                      w         p          w   \n",
              "  1                         w                      w         p          w   \n",
              "  2                         w                      w         p          w   \n",
              "  3                         w                      w         p          w   \n",
              "  4                         w                      w         p          w   \n",
              "  ...                     ...                    ...       ...        ...   \n",
              "  8119                      o                      o         p          o   \n",
              "  8120                      o                      o         p          n   \n",
              "  8121                      o                      o         p          o   \n",
              "  8122                      w                      w         p          w   \n",
              "  8123                      o                      o         p          o   \n",
              "  \n",
              "       ring-number ring-type spore-print-color population habitat poisonous  \n",
              "  0              o         p                 k          s       u         p  \n",
              "  1              o         p                 n          n       g         e  \n",
              "  2              o         p                 n          n       m         e  \n",
              "  3              o         p                 k          s       u         p  \n",
              "  4              o         e                 n          a       g         e  \n",
              "  ...          ...       ...               ...        ...     ...       ...  \n",
              "  8119           o         p                 b          c       l         e  \n",
              "  8120           o         p                 b          v       l         e  \n",
              "  8121           o         p                 b          c       l         e  \n",
              "  8122           o         e                 w          v       l         p  \n",
              "  8123           o         p                 o          c       l         e  \n",
              "  \n",
              "  [8124 rows x 23 columns],\n",
              "  'headers': Index(['cap-shape', 'cap-surface', 'cap-color', 'bruises', 'odor',\n",
              "         'gill-attachment', 'gill-spacing', 'gill-size', 'gill-color',\n",
              "         'stalk-shape', 'stalk-root', 'stalk-surface-above-ring',\n",
              "         'stalk-surface-below-ring', 'stalk-color-above-ring',\n",
              "         'stalk-color-below-ring', 'veil-type', 'veil-color', 'ring-number',\n",
              "         'ring-type', 'spore-print-color', 'population', 'habitat', 'poisonous'],\n",
              "        dtype='object')},\n",
              " 'metadata': {'uci_id': 73,\n",
              "  'name': 'Mushroom',\n",
              "  'repository_url': 'https://archive.ics.uci.edu/dataset/73/mushroom',\n",
              "  'data_url': 'https://archive.ics.uci.edu/static/public/73/data.csv',\n",
              "  'abstract': 'From Audobon Society Field Guide; mushrooms described in terms of physical characteristics; classification: poisonous or edible',\n",
              "  'area': 'Biology',\n",
              "  'tasks': ['Classification'],\n",
              "  'characteristics': ['Multivariate'],\n",
              "  'num_instances': 8124,\n",
              "  'num_features': 22,\n",
              "  'feature_types': ['Categorical'],\n",
              "  'demographics': [],\n",
              "  'target_col': ['poisonous'],\n",
              "  'index_col': None,\n",
              "  'has_missing_values': 'yes',\n",
              "  'missing_values_symbol': 'NaN',\n",
              "  'year_of_dataset_creation': 1981,\n",
              "  'last_updated': 'Thu Aug 10 2023',\n",
              "  'dataset_doi': '10.24432/C5959T',\n",
              "  'creators': [],\n",
              "  'intro_paper': None,\n",
              "  'additional_info': {'summary': \"This data set includes descriptions of hypothetical samples corresponding to 23 species of gilled mushrooms in the Agaricus and Lepiota Family (pp. 500-525).  Each species is identified as definitely edible, definitely poisonous, or of unknown edibility and not recommended.  This latter class was combined with the poisonous one.  The Guide clearly states that there is no simple rule for determining the edibility of a mushroom; no rule like ``leaflets three, let it be'' for Poisonous Oak and Ivy.\",\n",
              "   'purpose': None,\n",
              "   'funded_by': None,\n",
              "   'instances_represent': None,\n",
              "   'recommended_data_splits': None,\n",
              "   'sensitive_data': None,\n",
              "   'preprocessing_description': None,\n",
              "   'variable_info': '     1. cap-shape:                bell=b,conical=c,convex=x,flat=f, knobbed=k,sunken=s\\r\\n     2. cap-surface:              fibrous=f,grooves=g,scaly=y,smooth=s\\r\\n     3. cap-color:                brown=n,buff=b,cinnamon=c,gray=g,green=r, pink=p,purple=u,red=e,white=w,yellow=y\\r\\n     4. bruises?:                 bruises=t,no=f\\r\\n     5. odor:                     almond=a,anise=l,creosote=c,fishy=y,foul=f, musty=m,none=n,pungent=p,spicy=s\\r\\n     6. gill-attachment:          attached=a,descending=d,free=f,notched=n\\r\\n     7. gill-spacing:             close=c,crowded=w,distant=d\\r\\n     8. gill-size:                broad=b,narrow=n\\r\\n     9. gill-color:               black=k,brown=n,buff=b,chocolate=h,gray=g, green=r,orange=o,pink=p,purple=u,red=e, white=w,yellow=y\\r\\n    10. stalk-shape:              enlarging=e,tapering=t\\r\\n    11. stalk-root:               bulbous=b,club=c,cup=u,equal=e, rhizomorphs=z,rooted=r,missing=?\\r\\n    12. stalk-surface-above-ring: fibrous=f,scaly=y,silky=k,smooth=s\\r\\n    13. stalk-surface-below-ring: fibrous=f,scaly=y,silky=k,smooth=s\\r\\n    14. stalk-color-above-ring:   brown=n,buff=b,cinnamon=c,gray=g,orange=o, pink=p,red=e,white=w,yellow=y\\r\\n    15. stalk-color-below-ring:   brown=n,buff=b,cinnamon=c,gray=g,orange=o, pink=p,red=e,white=w,yellow=y\\r\\n    16. veil-type:                partial=p,universal=u\\r\\n    17. veil-color:               brown=n,orange=o,white=w,yellow=y\\r\\n    18. ring-number:              none=n,one=o,two=t\\r\\n    19. ring-type:                cobwebby=c,evanescent=e,flaring=f,large=l, none=n,pendant=p,sheathing=s,zone=z\\r\\n    20. spore-print-color:        black=k,brown=n,buff=b,chocolate=h,green=r, orange=o,purple=u,white=w,yellow=y\\r\\n    21. population:               abundant=a,clustered=c,numerous=n, scattered=s,several=v,solitary=y\\r\\n    22. habitat:                  grasses=g,leaves=l,meadows=m,paths=p, urban=u,waste=w,woods=d',\n",
              "   'citation': None}},\n",
              " 'variables':                         name     role         type demographic  \\\n",
              " 0                  poisonous   Target  Categorical        None   \n",
              " 1                  cap-shape  Feature  Categorical        None   \n",
              " 2                cap-surface  Feature  Categorical        None   \n",
              " 3                  cap-color  Feature       Binary        None   \n",
              " 4                    bruises  Feature  Categorical        None   \n",
              " 5                       odor  Feature  Categorical        None   \n",
              " 6            gill-attachment  Feature  Categorical        None   \n",
              " 7               gill-spacing  Feature  Categorical        None   \n",
              " 8                  gill-size  Feature  Categorical        None   \n",
              " 9                 gill-color  Feature  Categorical        None   \n",
              " 10               stalk-shape  Feature  Categorical        None   \n",
              " 11                stalk-root  Feature  Categorical        None   \n",
              " 12  stalk-surface-above-ring  Feature  Categorical        None   \n",
              " 13  stalk-surface-below-ring  Feature  Categorical        None   \n",
              " 14    stalk-color-above-ring  Feature  Categorical        None   \n",
              " 15    stalk-color-below-ring  Feature  Categorical        None   \n",
              " 16                 veil-type  Feature       Binary        None   \n",
              " 17                veil-color  Feature  Categorical        None   \n",
              " 18               ring-number  Feature  Categorical        None   \n",
              " 19                 ring-type  Feature  Categorical        None   \n",
              " 20         spore-print-color  Feature  Categorical        None   \n",
              " 21                population  Feature  Categorical        None   \n",
              " 22                   habitat  Feature  Categorical        None   \n",
              " \n",
              "                                           description units missing_values  \n",
              " 0                                                None  None             no  \n",
              " 1   bell=b,conical=c,convex=x,flat=f, knobbed=k,su...  None             no  \n",
              " 2                fibrous=f,grooves=g,scaly=y,smooth=s  None             no  \n",
              " 3   brown=n,buff=b,cinnamon=c,gray=g,green=r, pink...  None             no  \n",
              " 4                                      bruises=t,no=f  None             no  \n",
              " 5   almond=a,anise=l,creosote=c,fishy=y,foul=f, mu...  None             no  \n",
              " 6            attached=a,descending=d,free=f,notched=n  None             no  \n",
              " 7                         close=c,crowded=w,distant=d  None             no  \n",
              " 8                                    broad=b,narrow=n  None             no  \n",
              " 9   black=k,brown=n,buff=b,chocolate=h,gray=g, gre...  None             no  \n",
              " 10                             enlarging=e,tapering=t  None             no  \n",
              " 11  bulbous=b,club=c,cup=u,equal=e, rhizomorphs=z,...  None            yes  \n",
              " 12                 fibrous=f,scaly=y,silky=k,smooth=s  None             no  \n",
              " 13                 fibrous=f,scaly=y,silky=k,smooth=s  None             no  \n",
              " 14  brown=n,buff=b,cinnamon=c,gray=g,orange=o, pin...  None             no  \n",
              " 15  brown=n,buff=b,cinnamon=c,gray=g,orange=o, pin...  None             no  \n",
              " 16                              partial=p,universal=u  None             no  \n",
              " 17                  brown=n,orange=o,white=w,yellow=y  None             no  \n",
              " 18                                 none=n,one=o,two=t  None             no  \n",
              " 19  cobwebby=c,evanescent=e,flaring=f,large=l, non...  None             no  \n",
              " 20  black=k,brown=n,buff=b,chocolate=h,green=r, or...  None             no  \n",
              " 21  abundant=a,clustered=c,numerous=n, scattered=s...  None             no  \n",
              " 22  grasses=g,leaves=l,meadows=m,paths=p, urban=u,...  None             no  }"
            ]
          },
          "metadata": {},
          "execution_count": 3
        }
      ]
    },
    {
      "cell_type": "code",
      "source": [
        "import pandas as pd\n",
        "import numpy as np\n",
        "from sklearn.tree import DecisionTreeClassifier, plot_tree\n",
        "import matplotlib.pyplot as plt\n",
        "import pandas as pd\n",
        "from sklearn import tree\n",
        "from sklearn.ensemble import RandomForestClassifier\n",
        "from sklearn.model_selection import train_test_split\n",
        "from sklearn.metrics import accuracy_score, classification_report\n",
        "import matplotlib.pyplot as plt\n",
        "from sklearn.metrics import precision_score, recall_score, f1_score\n",
        "from graphviz import Digraph"
      ],
      "metadata": {
        "id": "zTAuba9kjaFS"
      },
      "execution_count": 4,
      "outputs": []
    },
    {
      "cell_type": "code",
      "source": [
        "from ucimlrepo import fetch_ucirepo\n",
        "import pandas as pd\n",
        "\n",
        "# Fetch the Mushroom dataset\n",
        "mushroom = fetch_ucirepo(id=73)\n",
        "\n",
        "# Convert features and target to a pandas DataFrame\n",
        "df = pd.DataFrame(mushroom.data.features)\n",
        "df['class'] = mushroom.data.targets  # Add the target column\n",
        "\n",
        "# Now check the columns\n",
        "print(df.columns)  # Shows all column names\n",
        "print(df.head())   # Displays the first 5 rows"
      ],
      "metadata": {
        "id": "oy8Y4TfFjnxj",
        "colab": {
          "base_uri": "https://localhost:8080/"
        },
        "outputId": "4e32b148-54bb-49e9-9184-ca27d34e9c74"
      },
      "execution_count": 5,
      "outputs": [
        {
          "output_type": "stream",
          "name": "stdout",
          "text": [
            "Index(['cap-shape', 'cap-surface', 'cap-color', 'bruises', 'odor',\n",
            "       'gill-attachment', 'gill-spacing', 'gill-size', 'gill-color',\n",
            "       'stalk-shape', 'stalk-root', 'stalk-surface-above-ring',\n",
            "       'stalk-surface-below-ring', 'stalk-color-above-ring',\n",
            "       'stalk-color-below-ring', 'veil-type', 'veil-color', 'ring-number',\n",
            "       'ring-type', 'spore-print-color', 'population', 'habitat', 'class'],\n",
            "      dtype='object')\n",
            "  cap-shape cap-surface cap-color bruises odor gill-attachment gill-spacing  \\\n",
            "0         x           s         n       t    p               f            c   \n",
            "1         x           s         y       t    a               f            c   \n",
            "2         b           s         w       t    l               f            c   \n",
            "3         x           y         w       t    p               f            c   \n",
            "4         x           s         g       f    n               f            w   \n",
            "\n",
            "  gill-size gill-color stalk-shape  ... stalk-color-above-ring  \\\n",
            "0         n          k           e  ...                      w   \n",
            "1         b          k           e  ...                      w   \n",
            "2         b          n           e  ...                      w   \n",
            "3         n          n           e  ...                      w   \n",
            "4         b          k           t  ...                      w   \n",
            "\n",
            "  stalk-color-below-ring veil-type veil-color ring-number ring-type  \\\n",
            "0                      w         p          w           o         p   \n",
            "1                      w         p          w           o         p   \n",
            "2                      w         p          w           o         p   \n",
            "3                      w         p          w           o         p   \n",
            "4                      w         p          w           o         e   \n",
            "\n",
            "  spore-print-color population habitat class  \n",
            "0                 k          s       u     p  \n",
            "1                 n          n       g     e  \n",
            "2                 n          n       m     e  \n",
            "3                 k          s       u     p  \n",
            "4                 n          a       g     e  \n",
            "\n",
            "[5 rows x 23 columns]\n"
          ]
        }
      ]
    },
    {
      "cell_type": "code",
      "source": [
        "print(df.columns)"
      ],
      "metadata": {
        "id": "vO0TXBv7jo05",
        "colab": {
          "base_uri": "https://localhost:8080/"
        },
        "outputId": "c06a9fd0-5092-4618-fd01-704709eb5c4b"
      },
      "execution_count": 6,
      "outputs": [
        {
          "output_type": "stream",
          "name": "stdout",
          "text": [
            "Index(['cap-shape', 'cap-surface', 'cap-color', 'bruises', 'odor',\n",
            "       'gill-attachment', 'gill-spacing', 'gill-size', 'gill-color',\n",
            "       'stalk-shape', 'stalk-root', 'stalk-surface-above-ring',\n",
            "       'stalk-surface-below-ring', 'stalk-color-above-ring',\n",
            "       'stalk-color-below-ring', 'veil-type', 'veil-color', 'ring-number',\n",
            "       'ring-type', 'spore-print-color', 'population', 'habitat', 'class'],\n",
            "      dtype='object')\n"
          ]
        }
      ]
    },
    {
      "cell_type": "code",
      "source": [
        "print(df.isnull().sum())"
      ],
      "metadata": {
        "id": "daWXJ5nAjsJd",
        "colab": {
          "base_uri": "https://localhost:8080/"
        },
        "outputId": "e5896c15-1494-45b0-de1b-8898ae541d2d"
      },
      "execution_count": 7,
      "outputs": [
        {
          "output_type": "stream",
          "name": "stdout",
          "text": [
            "cap-shape                      0\n",
            "cap-surface                    0\n",
            "cap-color                      0\n",
            "bruises                        0\n",
            "odor                           0\n",
            "gill-attachment                0\n",
            "gill-spacing                   0\n",
            "gill-size                      0\n",
            "gill-color                     0\n",
            "stalk-shape                    0\n",
            "stalk-root                  2480\n",
            "stalk-surface-above-ring       0\n",
            "stalk-surface-below-ring       0\n",
            "stalk-color-above-ring         0\n",
            "stalk-color-below-ring         0\n",
            "veil-type                      0\n",
            "veil-color                     0\n",
            "ring-number                    0\n",
            "ring-type                      0\n",
            "spore-print-color              0\n",
            "population                     0\n",
            "habitat                        0\n",
            "class                          0\n",
            "dtype: int64\n"
          ]
        }
      ]
    },
    {
      "cell_type": "code",
      "source": [
        "df_cleaned = df.dropna()"
      ],
      "metadata": {
        "id": "KJZi6R3tjug1"
      },
      "execution_count": 8,
      "outputs": []
    },
    {
      "cell_type": "code",
      "source": [
        "print(df.isnull().sum())"
      ],
      "metadata": {
        "id": "P4a_Wy_cjxsw",
        "colab": {
          "base_uri": "https://localhost:8080/"
        },
        "outputId": "5108925e-b72b-42aa-a1f2-a311a4af4a83"
      },
      "execution_count": 9,
      "outputs": [
        {
          "output_type": "stream",
          "name": "stdout",
          "text": [
            "cap-shape                      0\n",
            "cap-surface                    0\n",
            "cap-color                      0\n",
            "bruises                        0\n",
            "odor                           0\n",
            "gill-attachment                0\n",
            "gill-spacing                   0\n",
            "gill-size                      0\n",
            "gill-color                     0\n",
            "stalk-shape                    0\n",
            "stalk-root                  2480\n",
            "stalk-surface-above-ring       0\n",
            "stalk-surface-below-ring       0\n",
            "stalk-color-above-ring         0\n",
            "stalk-color-below-ring         0\n",
            "veil-type                      0\n",
            "veil-color                     0\n",
            "ring-number                    0\n",
            "ring-type                      0\n",
            "spore-print-color              0\n",
            "population                     0\n",
            "habitat                        0\n",
            "class                          0\n",
            "dtype: int64\n"
          ]
        }
      ]
    },
    {
      "cell_type": "code",
      "source": [
        "print(df.dtypes)\n",
        "print(df['class'].value_counts())"
      ],
      "metadata": {
        "id": "_mSBW2Gjj0dG",
        "colab": {
          "base_uri": "https://localhost:8080/"
        },
        "outputId": "986f330f-32f1-4ebe-cf69-89b2d63f393a"
      },
      "execution_count": 10,
      "outputs": [
        {
          "output_type": "stream",
          "name": "stdout",
          "text": [
            "cap-shape                   object\n",
            "cap-surface                 object\n",
            "cap-color                   object\n",
            "bruises                     object\n",
            "odor                        object\n",
            "gill-attachment             object\n",
            "gill-spacing                object\n",
            "gill-size                   object\n",
            "gill-color                  object\n",
            "stalk-shape                 object\n",
            "stalk-root                  object\n",
            "stalk-surface-above-ring    object\n",
            "stalk-surface-below-ring    object\n",
            "stalk-color-above-ring      object\n",
            "stalk-color-below-ring      object\n",
            "veil-type                   object\n",
            "veil-color                  object\n",
            "ring-number                 object\n",
            "ring-type                   object\n",
            "spore-print-color           object\n",
            "population                  object\n",
            "habitat                     object\n",
            "class                       object\n",
            "dtype: object\n",
            "class\n",
            "e    4208\n",
            "p    3916\n",
            "Name: count, dtype: int64\n"
          ]
        }
      ]
    },
    {
      "cell_type": "code",
      "source": [
        "from sklearn.preprocessing import LabelEncoder\n",
        "\n",
        "# Initialize LabelEncoder\n",
        "le = LabelEncoder()\n",
        "\n",
        "# Apply LabelEncoder to each feature and target column\n",
        "df_encoded = df.apply(le.fit_transform)\n",
        "\n",
        "# Check the first few rows of the encoded dataset\n",
        "print(df_encoded.head())"
      ],
      "metadata": {
        "id": "mW5ki8p5j6su",
        "colab": {
          "base_uri": "https://localhost:8080/"
        },
        "outputId": "1cd19d51-4f5c-4a37-d1d0-f159325c22dd"
      },
      "execution_count": 15,
      "outputs": [
        {
          "output_type": "stream",
          "name": "stdout",
          "text": [
            "   cap-shape  cap-surface  cap-color  bruises  odor  gill-attachment  \\\n",
            "0          5            2          4        1     6                1   \n",
            "1          5            2          9        1     0                1   \n",
            "2          0            2          8        1     3                1   \n",
            "3          5            3          8        1     6                1   \n",
            "4          5            2          3        0     5                1   \n",
            "\n",
            "   gill-spacing  gill-size  gill-color  stalk-shape  ...  \\\n",
            "0             0          1           4            0  ...   \n",
            "1             0          0           4            0  ...   \n",
            "2             0          0           5            0  ...   \n",
            "3             0          1           5            0  ...   \n",
            "4             1          0           4            1  ...   \n",
            "\n",
            "   stalk-color-above-ring  stalk-color-below-ring  veil-type  veil-color  \\\n",
            "0                       7                       7          0           2   \n",
            "1                       7                       7          0           2   \n",
            "2                       7                       7          0           2   \n",
            "3                       7                       7          0           2   \n",
            "4                       7                       7          0           2   \n",
            "\n",
            "   ring-number  ring-type  spore-print-color  population  habitat  class  \n",
            "0            1          4                  2           3        5      1  \n",
            "1            1          4                  3           2        1      0  \n",
            "2            1          4                  3           2        3      0  \n",
            "3            1          4                  2           3        5      1  \n",
            "4            1          0                  3           0        1      0  \n",
            "\n",
            "[5 rows x 23 columns]\n"
          ]
        }
      ]
    },
    {
      "cell_type": "code",
      "source": [
        "from sklearn.model_selection import train_test_split\n",
        "from sklearn.tree import DecisionTreeClassifier\n",
        "from sklearn.metrics import classification_report\n",
        "\n",
        "# Split the dataset into features and target variable\n",
        "X = df_encoded.drop('class', axis=1)  # Features\n",
        "y = df_encoded['class']  # Target\n",
        "\n",
        "# Split the data into 80% training and 20% testing\n",
        "X_train, X_test, y_train, y_test = train_test_split(X, y, test_size=0.2, random_state=42)\n",
        "\n",
        "# Initialize the DecisionTreeClassifier\n",
        "clf = DecisionTreeClassifier(random_state=42)\n",
        "\n",
        "# Train the classifier\n",
        "clf.fit(X_train, y_train)\n",
        "\n",
        "# Predict on the test set\n",
        "y_pred = clf.predict(X_test)\n",
        "\n",
        "# Print classification report\n",
        "print(classification_report(y_test, y_pred))"
      ],
      "metadata": {
        "id": "zI-WMmbBj-ih",
        "colab": {
          "base_uri": "https://localhost:8080/"
        },
        "outputId": "379df8a6-ccd5-40c3-8098-5bf146048505"
      },
      "execution_count": 16,
      "outputs": [
        {
          "output_type": "stream",
          "name": "stdout",
          "text": [
            "              precision    recall  f1-score   support\n",
            "\n",
            "           0       1.00      1.00      1.00       843\n",
            "           1       1.00      1.00      1.00       782\n",
            "\n",
            "    accuracy                           1.00      1625\n",
            "   macro avg       1.00      1.00      1.00      1625\n",
            "weighted avg       1.00      1.00      1.00      1625\n",
            "\n"
          ]
        }
      ]
    },
    {
      "cell_type": "code",
      "source": [
        "from sklearn.tree import export_graphviz\n",
        "from graphviz import Source\n",
        "\n",
        "# Export the tree to a dot format\n",
        "dot_data = export_graphviz(\n",
        "    clf,\n",
        "    out_file=None,\n",
        "    feature_names=X.columns,\n",
        "    class_names=le.classes_.astype(str),  # Convert class names to string\n",
        "    filled=True,\n",
        "    special_characters=True  # Handles special characters\n",
        ")\n",
        "\n",
        "# Create a Source object to visualize the tree\n",
        "graph = Source(dot_data)\n",
        "graph.render(\"mushroom_decision_tree\", format=\"png\", view=True)  # Saves the tree as a PNG file and opens it"
      ],
      "metadata": {
        "id": "tZH3pam9kCDG",
        "colab": {
          "base_uri": "https://localhost:8080/",
          "height": 36
        },
        "outputId": "40e288f8-11f0-4282-f8ed-cd37dc26629f"
      },
      "execution_count": 17,
      "outputs": [
        {
          "output_type": "execute_result",
          "data": {
            "text/plain": [
              "'mushroom_decision_tree.png'"
            ],
            "application/vnd.google.colaboratory.intrinsic+json": {
              "type": "string"
            }
          },
          "metadata": {},
          "execution_count": 17
        }
      ]
    },
    {
      "cell_type": "code",
      "source": [
        "from sklearn.model_selection import cross_val_score\n",
        "\n",
        "# Perform 5-fold cross-validation\n",
        "cv_scores = cross_val_score(clf, X, y, cv=5)\n",
        "\n",
        "print(\"Cross-validation scores:\", cv_scores)\n",
        "print(\"Average cross-validation score:\", cv_scores.mean())"
      ],
      "metadata": {
        "id": "otk-8rGekFU1",
        "colab": {
          "base_uri": "https://localhost:8080/"
        },
        "outputId": "56fbb1bd-13ed-4537-9665-d1ab6ee1961a"
      },
      "execution_count": 18,
      "outputs": [
        {
          "output_type": "stream",
          "name": "stdout",
          "text": [
            "Cross-validation scores: [0.84246154 1.         0.99384615 1.         0.92610837]\n",
            "Average cross-validation score: 0.9524832133383858\n"
          ]
        }
      ]
    },
    {
      "cell_type": "code",
      "source": [
        "from sklearn.model_selection import GridSearchCV\n",
        "\n",
        "# Define hyperparameters to tune\n",
        "param_grid = {\n",
        "    'max_depth': [3, 5, 10, 20],\n",
        "    'min_samples_split': [2, 5, 10],\n",
        "    'min_samples_leaf': [1, 2, 4],\n",
        "}\n",
        "\n",
        "# Initialize GridSearchCV\n",
        "grid_search = GridSearchCV(estimator=clf, param_grid=param_grid, cv=5, scoring='accuracy')\n",
        "\n",
        "# Fit GridSearchCV\n",
        "grid_search.fit(X_train, y_train)\n",
        "\n",
        "# Best parameters and best score\n",
        "print(\"Best parameters found: \", grid_search.best_params_)\n",
        "print(\"Best cross-validation score: \", grid_search.best_score_)\n",
        "\n",
        "# Re-evaluate the best model on the test set\n",
        "best_model = grid_search.best_estimator_\n",
        "y_pred = best_model.predict(X_test)\n",
        "print(classification_report(y_test, y_pred))"
      ],
      "metadata": {
        "id": "2vh-D1UCkIsQ",
        "colab": {
          "base_uri": "https://localhost:8080/"
        },
        "outputId": "28df779f-67a6-4846-848b-faaff4931e8e"
      },
      "execution_count": 19,
      "outputs": [
        {
          "output_type": "stream",
          "name": "stdout",
          "text": [
            "Best parameters found:  {'max_depth': 10, 'min_samples_leaf': 2, 'min_samples_split': 2}\n",
            "Best cross-validation score:  1.0\n",
            "              precision    recall  f1-score   support\n",
            "\n",
            "           0       1.00      1.00      1.00       843\n",
            "           1       1.00      1.00      1.00       782\n",
            "\n",
            "    accuracy                           1.00      1625\n",
            "   macro avg       1.00      1.00      1.00      1625\n",
            "weighted avg       1.00      1.00      1.00      1625\n",
            "\n"
          ]
        }
      ]
    },
    {
      "cell_type": "code",
      "source": [
        "from sklearn.ensemble import RandomForestClassifier, GradientBoostingClassifier\n",
        "from sklearn.svm import SVC\n",
        "from sklearn.model_selection import cross_val_score\n",
        "\n",
        "# Define the models\n",
        "rf_model = RandomForestClassifier(random_state=42)\n",
        "\n",
        "# List of models for easy comparison\n",
        "models = {'Random Forest': rf_model}\n",
        "\n",
        "# Evaluate each model using cross-validation\n",
        "for name, model in models.items():\n",
        "    print(f\"\\n{name} model:\")\n",
        "    cv_scores = cross_val_score(model, X, y, cv=5)\n",
        "    print(f\"Cross-validation scores: {cv_scores}\")\n",
        "    print(f\"Average cross-validation score: {cv_scores.mean()}\")\n",
        "\n",
        "    # Train and evaluate on the test data\n",
        "    model.fit(X_train, y_train)\n",
        "    y_pred = model.predict(X_test)\n",
        "    print(f\"Classification report for {name}:\")\n",
        "    print(classification_report(y_test, y_pred))"
      ],
      "metadata": {
        "id": "5Ps7R83SkL0u",
        "colab": {
          "base_uri": "https://localhost:8080/"
        },
        "outputId": "16df60f2-c381-49d6-bcf9-375e67b9f3c2"
      },
      "execution_count": 20,
      "outputs": [
        {
          "output_type": "stream",
          "name": "stdout",
          "text": [
            "\n",
            "Random Forest model:\n",
            "Cross-validation scores: [0.84246154 1.         1.         1.         0.63977833]\n",
            "Average cross-validation score: 0.8964479727169383\n",
            "Classification report for Random Forest:\n",
            "              precision    recall  f1-score   support\n",
            "\n",
            "           0       1.00      1.00      1.00       843\n",
            "           1       1.00      1.00      1.00       782\n",
            "\n",
            "    accuracy                           1.00      1625\n",
            "   macro avg       1.00      1.00      1.00      1625\n",
            "weighted avg       1.00      1.00      1.00      1625\n",
            "\n"
          ]
        }
      ]
    },
    {
      "cell_type": "code",
      "source": [
        "import matplotlib.pyplot as plt\n",
        "from sklearn.model_selection import learning_curve\n",
        "import numpy as np\n",
        "\n",
        "# Define the models\n",
        "models = {\n",
        "    'Random Forest': RandomForestClassifier(random_state=42)\n",
        "}\n",
        "# Create a plot for the learning curves\n",
        "plt.figure(figsize=(10, 6))\n",
        "\n",
        "# Iterate over each model and plot its learning curve\n",
        "for name, model in models.items():\n",
        "    train_sizes, train_scores, test_scores = learning_curve(\n",
        "        model, X, y, cv=5, train_sizes=np.linspace(0.1, 1.0, 10), scoring='accuracy'\n",
        "    )\n",
        "\n",
        "    # Compute mean and std for train and test scores\n",
        "    train_mean = train_scores.mean(axis=1)\n",
        "    train_std = train_scores.std(axis=1)\n",
        "    test_mean = test_scores.mean(axis=1)\n",
        "    test_std = test_scores.std(axis=1)\n",
        "\n",
        "    # Plot the learning curve for the model\n",
        "    plt.plot(train_sizes, train_mean, label=f'{name} - Train', lw=2)\n",
        "    plt.plot(train_sizes, test_mean, label=f'{name} - Test', lw=2)\n",
        "\n",
        "    # Fill between train and test scores to show the variability\n",
        "    plt.fill_between(train_sizes, train_mean - train_std, train_mean + train_std, alpha=0.2)\n",
        "    plt.fill_between(train_sizes, test_mean - test_std, test_mean + test_std, alpha=0.2)\n",
        "\n",
        "# Add labels and legend\n",
        "plt.title('Learning Curve')\n",
        "plt.xlabel('Training Size')\n",
        "plt.ylabel('Accuracy')\n",
        "plt.legend(loc='best')\n",
        "plt.grid(True)\n",
        "# Show the plot\n",
        "plt.show()"
      ],
      "metadata": {
        "id": "KYQIp6IikPK1",
        "colab": {
          "base_uri": "https://localhost:8080/",
          "height": 564
        },
        "outputId": "032cd98f-eddd-4946-c2c5-d48e5ef2e522"
      },
      "execution_count": 21,
      "outputs": [
        {
          "output_type": "display_data",
          "data": {
            "text/plain": [
              "<Figure size 1000x600 with 1 Axes>"
            ],
            "image/png": "[encoded data removed]"
          },
          "metadata": {}
        }
      ]
    }
  ]
}